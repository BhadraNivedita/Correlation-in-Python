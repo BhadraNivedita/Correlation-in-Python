{
 "cells": [
  {
   "cell_type": "code",
   "execution_count": 1,
   "id": "dafdc108",
   "metadata": {},
   "outputs": [
    {
     "data": {
      "image/png": "[encoded data removed]",
      "text/plain": [
       "<Figure size 432x288 with 1 Axes>"
      ]
     },
     "metadata": {
      "needs_background": "light"
     },
     "output_type": "display_data"
    }
   ],
   "source": [
    "##https://towardsdatascience.com/correlation-when-pearsons-r-is-not-enough-aded72308635\n"
   ]
  },
  {
   "cell_type": "code",
   "execution_count": null,
   "id": "0add1ef2",
   "metadata": {},
   "outputs": [],
   "source": [
    "# Import libraries\n",
    "import numpy as np\n",
    "import pandas as pd\n",
    "import seaborn as sns\n",
    "from scipy import stats\n",
    "import matplotlib.pyplot as plt\n",
    "%matplotlib inline\n",
    "\n",
    "# Read the data\n",
    "df = pd.read_csv('/Users/nbhadra/Documents/github_Nivedita/data/auto-cleaned.csv')\n",
    "\n",
    "# Create the scatterplot\n",
    "sns.regplot(data = df, x = 'price', y = 'engine-size', fit_reg = False, color = 'purple')\n",
    "\n",
    "# Add labels for X and Y axes\n",
    "plt.xlabel('Price')\n",
    "plt.ylabel('Engine Size')\n",
    "plt.show()"
   ]
  },
  {
   "cell_type": "code",
   "execution_count": 2,
   "id": "cab2c0b3",
   "metadata": {},
   "outputs": [
    {
     "data": {
      "text/plain": [
       "'/Users/nbhadra/Documents/github_Nivedita'"
      ]
     },
     "execution_count": 2,
     "metadata": {},
     "output_type": "execute_result"
    }
   ],
   "source": [
    "pwd"
   ]
  },
  {
   "cell_type": "markdown",
   "id": "d8cab761",
   "metadata": {},
   "source": [
    "# 1. Pearson's r"
   ]
  },
  {
   "cell_type": "code",
   "execution_count": 3,
   "id": "59ce00cd",
   "metadata": {},
   "outputs": [
    {
     "data": {
      "text/plain": [
       "(0.8887784953105813, 1.2525079178143254e-66)"
      ]
     },
     "execution_count": 3,
     "metadata": {},
     "output_type": "execute_result"
    }
   ],
   "source": [
    "# Calculate Pearson's r\n",
    "stats.pearsonr(df['price'], df['engine-size'])"
   ]
  },
  {
   "cell_type": "markdown",
   "id": "b0803d2c",
   "metadata": {},
   "source": [
    "# 2. Spearman’s Rank Correlation Coefficient"
   ]
  },
  {
   "cell_type": "code",
   "execution_count": 4,
   "id": "eb1c7abe",
   "metadata": {},
   "outputs": [
    {
     "data": {
      "text/plain": [
       "SpearmanrResult(correlation=0.8733307703719501, pvalue=1.4412962530876853e-61)"
      ]
     },
     "execution_count": 4,
     "metadata": {},
     "output_type": "execute_result"
    }
   ],
   "source": [
    "# Calculate Spearman's rho\n",
    "stats.spearmanr(df['price'], df['engine-size'])"
   ]
  },
  {
   "cell_type": "markdown",
   "id": "09b5478d",
   "metadata": {},
   "source": [
    "# 3. Kendall’s Tau\n"
   ]
  },
  {
   "cell_type": "code",
   "execution_count": 5,
   "id": "6e8c44f0",
   "metadata": {},
   "outputs": [
    {
     "name": "stdout",
     "output_type": "stream",
     "text": [
      "Kendall's Tau (b) is: KendalltauResult(correlation=0.7014823398445257, pvalue=8.148712068837136e-46)\n",
      "Kendall's Tau (c) is: KendalltauResult(correlation=0.700979066035846, pvalue=8.148712068837136e-46)\n"
     ]
    }
   ],
   "source": [
    "# Calculate Kendall's Tau\n",
    "tau_b = stats.kendalltau(df['price'], df['engine-size'], variant = 'b')\n",
    "tau_c = stats.kendalltau(df['price'], df['engine-size'], variant = 'c')\n",
    "\n",
    "print(f\"Kendall's Tau (b) is: {tau_b}\")\n",
    "print(f\"Kendall's Tau (c) is: {tau_c}\")"
   ]
  },
  {
   "cell_type": "markdown",
   "id": "52f0f1b4",
   "metadata": {},
   "source": [
    "# 4. Point-Biserial\n"
   ]
  },
  {
   "cell_type": "code",
   "execution_count": 6,
   "id": "ad85df9a",
   "metadata": {},
   "outputs": [
    {
     "data": {
      "text/plain": [
       "PointbiserialrResult(correlation=0.11544021925980423, pvalue=0.10989215292636435)"
      ]
     },
     "execution_count": 6,
     "metadata": {},
     "output_type": "execute_result"
    }
   ],
   "source": [
    "# Create the new column for the binary values\n",
    "df['fuel-type-binary'] = df['fuel-type'].replace({'gas' : 0, 'diesel' : 1})\n",
    "\n",
    "# Calculate Point-Biserial correlation coefficient\n",
    "stats.pointbiserialr(df['price'], df['fuel-type-binary'])\n"
   ]
  },
  {
   "cell_type": "markdown",
   "id": "61b2d93b",
   "metadata": {},
   "source": [
    "# 5. Phi Coefficient\n"
   ]
  },
  {
   "cell_type": "code",
   "execution_count": 7,
   "id": "927bfa6b",
   "metadata": {},
   "outputs": [
    {
     "name": "stdout",
     "output_type": "stream",
     "text": [
      "Phi Coefficient: -0.7071067811865476\n"
     ]
    }
   ],
   "source": [
    "# Import necessary packages\n",
    "import pandas as pd\n",
    "import math\n",
    "\n",
    "# Create a dataframe from two assumed binary variables of X and Y\n",
    "df = pd.DataFrame({'X': [1, 1, 0, 0, 1, 0], 'Y': [1, 0, 1, 1, 0, 1]})\n",
    "\n",
    "# Create a contingency table\n",
    "table = pd.crosstab(df['X'], df['Y'])\n",
    "\n",
    "# Extract the values from the table\n",
    "n11 = table.iloc[0,0]\n",
    "n10 = table.iloc[0,1]\n",
    "n01 = table.iloc[1,0]\n",
    "n00 = table.iloc[1,1]\n",
    "\n",
    "# Calculate the phi coefficient\n",
    "coef = (n11*n00 - n10*n01) / (math.sqrt((n11+n10)*(n11+n01)*(n00+n10)*(n00+n01)))\n",
    "\n",
    "print(f\"Phi Coefficient: {coef}\")"
   ]
  },
  {
   "cell_type": "code",
   "execution_count": 8,
   "id": "33d69390",
   "metadata": {},
   "outputs": [
    {
     "name": "stdout",
     "output_type": "stream",
     "text": [
      "Matthews Correlation Coefficient: -0.7071067811865476\n"
     ]
    }
   ],
   "source": [
    "# Import necessary packages\n",
    "from sklearn.metrics import matthews_corrcoef\n",
    "\n",
    "# Create two assumed binary variables\n",
    "X = [1, 1, 0, 0, 1, 0]\n",
    "Y = [1, 0, 1, 1, 0, 1]\n",
    "\n",
    "# Calculate MCC\n",
    "mcc = matthews_corrcoef(X, Y)\n",
    "print(f\"Matthews Correlation Coefficient: {mcc}\")"
   ]
  },
  {
   "cell_type": "markdown",
   "id": "534b4cb2",
   "metadata": {},
   "source": [
    "# 6. Cramer’s V\n"
   ]
  },
  {
   "cell_type": "code",
   "execution_count": 9,
   "id": "dd1b60db",
   "metadata": {},
   "outputs": [
    {
     "name": "stdout",
     "output_type": "stream",
     "text": [
      "Cramer's V: 0.3535533905932738\n"
     ]
    }
   ],
   "source": [
    "# Import necessary libraries\n",
    "import pandas as pd\n",
    "import math\n",
    "\n",
    "# Create a dataframe\n",
    "df = pd.DataFrame({'X': ['A', 'A', 'B', 'B', 'A', 'B'], 'Y': ['W', 'X', 'W', 'W', 'X', 'W']})\n",
    "\n",
    "# Create a contingency table\n",
    "table = pd.crosstab(df['X'], df['Y'])\n",
    "\n",
    "#Calculate the chi-squared statistic and the p-value\n",
    "chi2, p, dof, expected = stats.chi2_contingency(table)\n",
    "\n",
    "#Calculate Cramer's V\n",
    "V = math.sqrt(chi2 / (table.values.sum()*min(table.shape[0]-1, table.shape[1]-1)))\n",
    "\n",
    "print(f\"Cramer's V: {V}\")"
   ]
  },
  {
   "cell_type": "markdown",
   "id": "714139e1",
   "metadata": {},
   "source": [
    "# 7. Polychoric Correlation\n"
   ]
  },
  {
   "cell_type": "markdown",
   "id": "49127403",
   "metadata": {},
   "source": [
    "# 8. Partial Correlation\n"
   ]
  },
  {
   "cell_type": "code",
   "execution_count": 10,
   "id": "36ba40cc",
   "metadata": {},
   "outputs": [
    {
     "name": "stdout",
     "output_type": "stream",
     "text": [
      "Partial Correlation (between X and Y, while controlling for Z): 0.14040597205107264\n"
     ]
    }
   ],
   "source": [
    "# Import necessary packages\n",
    "import pandas as pd\n",
    "\n",
    "# Create a dataframe of X, Y and Z variables\n",
    "data = {\n",
    "    'X': [1, 1, 9, 0, 1, 8, 10, 7, 10, 0, 1, 9, 0, 6, 2, 6, 9, 0, 9, 7], \n",
    "    'Y': [8, 2, 4, 3, 0, 1, 6, 0, 5, 6, 10, 3, 2, 7, 4, 5, 6, 0, 5, 10],\n",
    "    'Z': [0, 2, 1, 1, 2, 2, 7, 7, 2, 6, 4, 4, 7, 7, 6, 6, 1, 6, 4, 7]\n",
    "}\n",
    "\n",
    "df = pd.DataFrame(data)\n",
    "\n",
    "# Create a correlation matrix\n",
    "corr_matrix = df.corr()\n",
    "\n",
    "x_y_correlation = corr_matrix.loc['X', 'Y']\n",
    "x_z_correlation = corr_matrix.loc['X', 'Z']\n",
    "y_z_correlation = corr_matrix.loc['Y', 'Z']\n",
    "\n",
    "# Calculate the Partial Correlation between X and Y, while controlling for Z\n",
    "partial_correlation_xy_z = (x_y_correlation - (x_z_correlation * y_z_correlation)) / ((1 - (x_z_correlation ** 2)) * (1 - (y_z_correlation ** 2))) ** 0.5\n",
    "\n",
    "print(f\"Partial Correlation (between X and Y, while controlling for Z): {partial_correlation_xy_z}\")"
   ]
  },
  {
   "cell_type": "code",
   "execution_count": 11,
   "id": "21e118d8",
   "metadata": {},
   "outputs": [
    {
     "name": "stdout",
     "output_type": "stream",
     "text": [
      "          n         r          CI95%     p-val\n",
      "pearson  20  0.140406  [-0.34, 0.56]  0.566429\n"
     ]
    }
   ],
   "source": [
    "# Import necessary packages\n",
    "import pandas as pd\n",
    "import pingouin as pg\n",
    "\n",
    "# Create a dataframe of X, Y and Z variables\n",
    "data = {\n",
    "    'X': [1, 1, 9, 0, 1, 8, 10, 7, 10, 0, 1, 9, 0, 6, 2, 6, 9, 0, 9, 7], \n",
    "    'Y': [8, 2, 4, 3, 0, 1, 6, 0, 5, 6, 10, 3, 2, 7, 4, 5, 6, 0, 5, 10],\n",
    "    'Z': [0, 2, 1, 1, 2, 2, 7, 7, 2, 6, 4, 4, 7, 7, 6, 6, 1, 6, 4, 7]\n",
    "}\n",
    "df = pd.DataFrame(data)\n",
    "\n",
    "# Calculate the Partial Correlation between X and Y, while controlling for Z\n",
    "partial_correlation_xy_z = pg.partial_corr(data = df, x='X', y='Y', covar='Z', method = 'pearson')\n",
    "\n",
    "print(partial_correlation_xy_z)"
   ]
  },
  {
   "cell_type": "markdown",
   "id": "31af1227",
   "metadata": {},
   "source": [
    "# 9. Tetrachoric Correlation Coefficient\n"
   ]
  },
  {
   "cell_type": "code",
   "execution_count": null,
   "id": "e56bbe8e",
   "metadata": {},
   "outputs": [],
   "source": []
  }
 ],
 "metadata": {
  "kernelspec": {
   "display_name": "Python 3 (ipykernel)",
   "language": "python",
   "name": "python3"
  },
  "language_info": {
   "codemirror_mode": {
    "name": "ipython",
    "version": 3
   },
   "file_extension": ".py",
   "mimetype": "text/x-python",
   "name": "python",
   "nbconvert_exporter": "python",
   "pygments_lexer": "ipython3",
   "version": "3.9.12"
  }
 },
 "nbformat": 4,
 "nbformat_minor": 5
}
